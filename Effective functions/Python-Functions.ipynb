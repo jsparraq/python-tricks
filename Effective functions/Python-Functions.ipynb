{
 "cells": [
  {
   "cell_type": "markdown",
   "metadata": {},
   "source": [
    "## Python's functions are first-class\n",
    "\n",
    "Python's functions are first-class objects. You can assign them to variables, store them in data structures, pass them as arguments to other functions, and even return them as values from other functions.\n",
    "\n",
    "Grooking these concepts intuitively will make understanding advanced features in Python like lambdas and decorators much easier. It also puts you on a path towards functional programming techniques.\n",
    "\n",
    "We'll be using this yell function for demostration purposes."
   ]
  },
  {
   "cell_type": "code",
   "execution_count": 1,
   "metadata": {},
   "outputs": [
    {
     "output_type": "stream",
     "name": "stdout",
     "text": "HELLO!\n"
    }
   ],
   "source": [
    "def yell(text):\n",
    "    return text.upper() + '!'\n",
    "\n",
    "print(yell('Hello'))"
   ]
  },
  {
   "cell_type": "markdown",
   "metadata": {},
   "source": [
    "### Functions are objects\n",
    "\n",
    "All data in Python program is represented by objects or relations between objects. Things like strings, lists, modules, and functions are all objects. There's nothing particularly special about functions in Python. They're also just objects. I can assign it to another variable, but The first code line doesn't call the function.\n",
    "You can delete the function's original name (*yell*). Since another name(*bark*) still point to the underlying function you can still call the function through it"
   ]
  },
  {
   "cell_type": "code",
   "execution_count": 2,
   "metadata": {},
   "outputs": [
    {
     "output_type": "stream",
     "name": "stdout",
     "text": "HELLO!\nyell function is not defined\nHELLO 2!\n"
    }
   ],
   "source": [
    "bark = yell\n",
    "print(bark('hello'))\n",
    "\n",
    "del yell\n",
    "\n",
    "try:\n",
    "    print(yell('Hello'))\n",
    "except NameError:\n",
    "    print('yell function is not defined')\n",
    "\n",
    "print(bark('hello 2'))"
   ]
  },
  {
   "cell_type": "markdown",
   "metadata": {},
   "source": [
    "By the way, Python attaches a string identifier to every function at creation time for debugging purposes."
   ]
  },
  {
   "cell_type": "code",
   "execution_count": 3,
   "metadata": {},
   "outputs": [
    {
     "output_type": "stream",
     "name": "stdout",
     "text": "Original function name: yell\n"
    }
   ],
   "source": [
    "print(f'Original function name: {bark.__name__}')"
   ]
  },
  {
   "cell_type": "markdown",
   "metadata": {},
   "source": [
    "### Functions can be stored in data structures\n",
    "\n",
    "Since functions are first-class citizens, you can store them in data structures, just like you can with other objects.\n",
    "\n",
    "You can even call a function object stored in the list without first assigning it to a variable. You can do the lookup and then immediately cal the resulting '*disembodied*' function object within a single expression:"
   ]
  },
  {
   "cell_type": "code",
   "execution_count": 4,
   "metadata": {},
   "outputs": [
    {
     "output_type": "stream",
     "name": "stdout",
     "text": "[<function yell at 0x111ea3830>, <method 'lower' of 'str' objects>, <method 'capitalize' of 'str' objects>]\n==========\n<function yell at 0x111ea3830> HEY THERE!\n<method 'lower' of 'str' objects> hey there\n<method 'capitalize' of 'str' objects> Hey there\n"
    },
    {
     "output_type": "execute_result",
     "data": {
      "text/plain": "'HEY THERE!'"
     },
     "metadata": {},
     "execution_count": 4
    }
   ],
   "source": [
    "funcs = [bark, str.lower, str.capitalize]\n",
    "print(funcs)\n",
    "print('==========')\n",
    "for f in funcs:\n",
    "    print(f, f('hey there'))\n",
    "\n",
    "funcs[0]('hey there')"
   ]
  },
  {
   "cell_type": "markdown",
   "metadata": {},
   "source": [
    "### Functions can be passed to other Functions\n",
    "\n",
    "You can pass them as arguments to other functions. The functions that can accept other functions as arguments are also called *higher-order functions*. They are a necessity for the functional programming style. Here's a greet function that formats a greeting string using the function object passed to it and then prints it"
   ]
  },
  {
   "cell_type": "code",
   "execution_count": 5,
   "metadata": {},
   "outputs": [
    {
     "output_type": "stream",
     "name": "stdout",
     "text": "HI, I AM A PYTHON PROGRAM!\n['HELLO!', 'HEY!', 'HI!']\n"
    }
   ],
   "source": [
    "def greet(func):\n",
    "    greeting = func('Hi, I am a Python program')\n",
    "    print(greeting)\n",
    "\n",
    "greet(bark)\n",
    "\n",
    "print(list(map(bark, ['hello', 'hey', 'hi'])))"
   ]
  },
  {
   "cell_type": "markdown",
   "metadata": {},
   "source": [
    "### Functions can be nested\n",
    "\n",
    "Perhaps surprising, Python allows functions to be defined inside other fucntions. These are often called *nested functions* or *inner functions*. Here's an example:"
   ]
  },
  {
   "cell_type": "code",
   "execution_count": 6,
   "metadata": {},
   "outputs": [
    {
     "output_type": "execute_result",
     "data": {
      "text/plain": "'hello, world...'"
     },
     "metadata": {},
     "execution_count": 6
    }
   ],
   "source": [
    "def speak(text):\n",
    "    def whisper(t):\n",
    "        return t.lower() + '...'\n",
    "    return whisper(text)\n",
    "\n",
    "speak('Hello, world')"
   ]
  },
  {
   "cell_type": "markdown",
   "metadata": {},
   "source": [
    "### Functions can capture local state\n",
    "\n",
    "Not only can functions return other functions, these inner functions can also capture and carry some of the parent functions's state with them. Well, what does that mean?"
   ]
  },
  {
   "cell_type": "code",
   "execution_count": 7,
   "metadata": {},
   "outputs": [
    {
     "output_type": "stream",
     "name": "stdout",
     "text": "HELLO, WORLD---\n"
    }
   ],
   "source": [
    "def get_speak_func(text, volume):\n",
    "    def whisper():\n",
    "        return text.lower() + '...'\n",
    "    def yell():\n",
    "        return text.upper() + '---'\n",
    "    if volume > 0.5:\n",
    "        return yell\n",
    "    else:\n",
    "        return whisper\n",
    "        \n",
    "\n",
    "print(get_speak_func('Hello, world', 0.7)())"
   ]
  },
  {
   "cell_type": "markdown",
   "metadata": {},
   "source": [
    "Functions that do this are called *lexical closures* (or just closures, for short). A closure remembers the values from its enclosing lexical scope even when the program flow is no longer in that scope.\n",
    "\n",
    "In practical terms, this means not only can functions return behaviours but they can also *pre-configure* those behaviours. Here's another barebones example to illustrate this idea:"
   ]
  },
  {
   "cell_type": "code",
   "execution_count": 8,
   "metadata": {},
   "outputs": [
    {
     "output_type": "stream",
     "name": "stdout",
     "text": "6\n12\n"
    }
   ],
   "source": [
    "def make_adder(n):\n",
    "    def add(x):\n",
    "        return x + n\n",
    "    return add\n",
    "\n",
    "plus_3 = make_adder(3)\n",
    "plus_5 = make_adder(5)\n",
    "\n",
    "print(plus_3(3))\n",
    "print(plus_5(7))"
   ]
  },
  {
   "cell_type": "markdown",
   "metadata": {},
   "source": [
    "*make_adder function* serves as a factory to create and configure \"adder\" function. Notice how the \"adder\" functions can still access the n argument of the make_adder function (The enclosing scope).\n",
    "\n",
    "### Objects can behave like functions\n",
    "\n",
    "While all functions are objects in Python, the reverse isn't true. Objects, aren't functions. But they can be made callable, which allows you to treat them like functions in many cases.\n",
    "\n",
    "If an object is callable it means you can use the round parentheses function call syntax on it and even pass in function call arguments. This is all powered by the __call__ dunder method. Here's an example of class defining a callable object:"
   ]
  },
  {
   "cell_type": "code",
   "execution_count": 9,
   "metadata": {},
   "outputs": [
    {
     "output_type": "stream",
     "name": "stdout",
     "text": "7\n"
    }
   ],
   "source": [
    "class Adder:\n",
    "    def __init__(self, n):\n",
    "        self.n = n\n",
    "\n",
    "    def __call__(self, x):\n",
    "        return self.n + x\n",
    "\n",
    "plus_3 = Adder(3)\n",
    "print(plus_3(4))"
   ]
  },
  {
   "cell_type": "markdown",
   "metadata": {},
   "source": [
    "### Key takeaways\n",
    "\n",
    "    - Everything in Python is an object, including functions. You can assign them to variables, store them in data structures, and pass or return them to and from other functions.\n",
    "    - Functions can be nested and they can capture and carry some of the parent function's state with them. Functions that do this are called closures.\n",
    "    - Objects can be made callable. In many cases this allows you to treat them like functions"
   ]
  }
 ],
 "metadata": {
  "language_info": {
   "codemirror_mode": {
    "name": "ipython",
    "version": 3
   },
   "file_extension": ".py",
   "mimetype": "text/x-python",
   "name": "python",
   "nbconvert_exporter": "python",
   "pygments_lexer": "ipython3",
   "version": "3.7.7-final"
  },
  "orig_nbformat": 2,
  "kernelspec": {
   "name": "python37764bitvenvvenvd33f9026929c40169e2f7d2ac2b15d20",
   "display_name": "Python 3.7.7 64-bit ('venv': venv)"
  }
 },
 "nbformat": 4,
 "nbformat_minor": 2
}