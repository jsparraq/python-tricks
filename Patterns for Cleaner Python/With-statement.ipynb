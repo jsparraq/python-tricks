{
 "cells": [
  {
   "cell_type": "markdown",
   "metadata": {},
   "source": [
    "# Context Managers and the with Statement\n",
    "\n",
    "The with statement in Python is regarded as an obscure feature by some, But when you peek behind the scenes, you'll see that there's no magic involved, and it's actually a highly useful feature that can gelp you weite cleaner and more readable Python code. It helps simplify some common resource management patterns by abstracting their functionality and allowing them to be factore out and reused.\n",
    "A good way to see this feature used effectively is by looking at examples in the Python standard library. The build-in open() function provides us with an excellent use case:\n"
   ]
  },
  {
   "cell_type": "code",
   "execution_count": 1,
   "metadata": {},
   "outputs": [],
   "source": [
    "with open('hello.txt', 'w') as f:\n",
    "    f.write('Hello, world')\n",
    "\n",
    "# How to work 'with statement' internally\n",
    "f = open('hello.txt', 'w')\n",
    "try:\n",
    "    f.write('Hello, world')\n",
    "finally:\n",
    "    f.close()"
   ]
  },
  {
   "cell_type": "markdown",
   "metadata": {},
   "source": [
    "Opening files using the with statement is generally recommended because it ensures that open file descriptors are closed automatically after program execution leaves the context of the with statement. \n",
    "\n",
    "The *with statement* can make code that deals with system resources more readable. It also helps you avoid bugs or leaks by making ut practically impossible to forget to clean up or release a resource when it's no longer needed\n",
    "\n",
    "### Context managers\n",
    "\n",
    "It's a simple 'protocol' (or interface) that your object needs to follow in order to support some statements like to *with statement*.\n",
    "\n",
    "### Supporting *with* in your own objects\n",
    "\n",
    "You can provide the same functionality in your own classes and functions by implementing so-called *context managers*\n",
    "Basically, all you need to do is add __enter__ and __exit__ methods to an object if you want it to function as a context manager. Python will call theses two methods at the appropriate times in the resource management cycle."
   ]
  },
  {
   "cell_type": "code",
   "execution_count": 2,
   "metadata": {},
   "outputs": [],
   "source": [
    "class ManagedFile:\n",
    "    def __init__(self, name):\n",
    "        self.name = name\n",
    "\n",
    "    def __enter__(self):\n",
    "        self.file = open(self.name, 'w')\n",
    "        return self.file\n",
    "\n",
    "    def __exit__(self, exc_type, exc_val, exc_tb):\n",
    "        if self.file:\n",
    "            self.file.close()\n",
    "\n",
    "with ManagedFile('hello.txt') as f:\n",
    "    f.write('hello, world\\n')\n",
    "    f.write('bye now')"
   ]
  },
  {
   "cell_type": "markdown",
   "metadata": {},
   "source": [
    "Python calls \\_\\_enter\\_\\_ when execution enters the context of the *with statement* and it's time to acquire the resource. When execution leaves the context again, Python calls \\_\\_exit\\_\\_ to free up the resource.\n",
    "\n",
    "Writing a class-based context manager isn't the only way to support the *with statement* in Python. The *contextlib* utility module in the standard library provides a few more abstractions built on top of the basic context manager protocol. This can make your life a litter easier if your cases match what's offered by contextlib. we are going to rewrite our ManagedFile context manager example with this technique."
   ]
  },
  {
   "cell_type": "code",
   "execution_count": 3,
   "metadata": {},
   "outputs": [],
   "source": [
    "from contextlib import contextmanager\n",
    "\n",
    "# This method becomes a generator\n",
    "@contextmanager\n",
    "def managed_file(name):\n",
    "    try:\n",
    "        f = open(name, 'w')\n",
    "        yield f\n",
    "    finally:\n",
    "        f.close()\n",
    "\n",
    "with managed_file('hello.txt') as f:\n",
    "    f.write('Hello, world\\n')\n",
    "    f.write('bye now')\n"
   ]
  },
  {
   "cell_type": "markdown",
   "metadata": {},
   "source": [
    "The class-based implementation and the generator-based one are essentially equivalent. You might prefer one over the other, depending on which approach you find more readable and your team are comfortable using.\n",
    "They're an excellent feature that will allow you to deal with resource management in a much more Pythonic and maintainable way.\n",
    "\n",
    " - The *with statement* simplifies exception handling by encapsulating standard uses of try/finally statements in so-called context managers\n",
    " - Most commonly it is used to manage the safe acquisition and release of system resources. Resources are acquired by the with statement and released automatically when execution leaves the with context.\n",
    " - Using with effectively can help you avoid resource leaks and make your code easier to read\n",
    " "
   ]
  }
 ],
 "metadata": {
  "language_info": {
   "codemirror_mode": {
    "name": "ipython",
    "version": 3
   },
   "file_extension": ".py",
   "mimetype": "text/x-python",
   "name": "python",
   "nbconvert_exporter": "python",
   "pygments_lexer": "ipython3",
   "version": "3.7.7-final"
  },
  "orig_nbformat": 2,
  "kernelspec": {
   "name": "python37764bitvenvvenvd33f9026929c40169e2f7d2ac2b15d20",
   "display_name": "Python 3.7.7 64-bit ('venv': venv)"
  }
 },
 "nbformat": 4,
 "nbformat_minor": 2
}