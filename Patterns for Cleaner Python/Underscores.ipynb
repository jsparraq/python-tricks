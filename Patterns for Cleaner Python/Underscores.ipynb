{
 "cells": [
  {
   "cell_type": "markdown",
   "metadata": {},
   "source": [
    "# Underscores, Dunders, and More\n",
    "\n",
    "### Single leading underscore: \\_var\n",
    "The underscore prefix is meant as a hint to tell another programmer that a variable or method starting with a single underscore is intended for internal user. This convention is defined in PEP8, the most commonly used Python code style guide\n",
    "\n",
    "However, this convention isn't enforced by the Python interpreter. Python doesn't have strong distinctions between '*private*' and '*public*' variables\n"
   ]
  },
  {
   "cell_type": "code",
   "execution_count": 1,
   "metadata": {},
   "outputs": [
    {
     "output_type": "stream",
     "name": "stdout",
     "text": "Public argument 11\nPrivate argument 23\n"
    }
   ],
   "source": [
    "class Test:\n",
    "    def __init__(self):\n",
    "        self.foo = 11\n",
    "        self._bar = 23\n",
    "\n",
    "t = Test()\n",
    "print(f'Public argument {t.foo}')\n",
    "print(f'Private argument {t._bar}')"
   ]
  },
  {
   "cell_type": "markdown",
   "metadata": {},
   "source": [
    "As you can see, the leading single underscore in _bar did not prevent us from 'reaching into' the class and accessing the value of that variable.\n",
    "\n",
    "That's because the single underscore prefix in Python is merely an agreed-upon convention-at least when it comes to variable and method names.\n",
    "\n",
    "Now, if you use a wildcard import to import all the names from the module, Python will not import names with a leading underscore"
   ]
  },
  {
   "cell_type": "code",
   "execution_count": 2,
   "metadata": {},
   "outputs": [
    {
     "output_type": "stream",
     "name": "stdout",
     "text": "23\n"
    },
    {
     "output_type": "error",
     "ename": "NameError",
     "evalue": "name '_internal_func' is not defined",
     "traceback": [
      "\u001b[0;31m---------------------------------------------------------------------------\u001b[0m",
      "\u001b[0;31mNameError\u001b[0m                                 Traceback (most recent call last)",
      "\u001b[0;32m<ipython-input-2-825b5faf26ba>\u001b[0m in \u001b[0;36m<module>\u001b[0;34m\u001b[0m\n\u001b[1;32m      3\u001b[0m \u001b[0mprint\u001b[0m\u001b[0;34m(\u001b[0m\u001b[0mexternal_func\u001b[0m\u001b[0;34m(\u001b[0m\u001b[0;34m)\u001b[0m\u001b[0;34m)\u001b[0m\u001b[0;34m\u001b[0m\u001b[0;34m\u001b[0m\u001b[0m\n\u001b[1;32m      4\u001b[0m \u001b[0;34m\u001b[0m\u001b[0m\n\u001b[0;32m----> 5\u001b[0;31m \u001b[0mprint\u001b[0m\u001b[0;34m(\u001b[0m\u001b[0m_internal_func\u001b[0m\u001b[0;34m(\u001b[0m\u001b[0;34m)\u001b[0m\u001b[0;34m)\u001b[0m\u001b[0;34m\u001b[0m\u001b[0;34m\u001b[0m\u001b[0m\n\u001b[0m",
      "\u001b[0;31mNameError\u001b[0m: name '_internal_func' is not defined"
     ]
    }
   ],
   "source": [
    "from resources.mymodule import *\n",
    "\n",
    "print(external_func())\n",
    "\n",
    "print(_internal_func())"
   ]
  },
  {
   "cell_type": "markdown",
   "metadata": {},
   "source": [
    "Unlike wildcard imports, regular imports are not affected by the leading single underscore naming convetion"
   ]
  },
  {
   "cell_type": "code",
   "execution_count": 3,
   "metadata": {},
   "outputs": [
    {
     "output_type": "stream",
     "name": "stdout",
     "text": "23\n42\n"
    }
   ],
   "source": [
    "import resources.mymodule as mymodule\n",
    "\n",
    "print(mymodule.external_func())\n",
    "\n",
    "print(mymodule._internal_func())"
   ]
  },
  {
   "cell_type": "markdown",
   "metadata": {},
   "source": [
    "If you stick to the PEP8 recommendation that wildcard imports should be avoided, the all you really need to remember is this:\n",
    "\n",
    "Single underscores are a Python naming convention that indicates a name is meant for internal use. It is generally not enforced by the Python interpreter and is only meant as a hint to the programmer.\n",
    "\n",
    "### Single trailing underscores: var\\_\n",
    "\n",
    "Sometimes the most fitting name for a variables is already taken by keyword in the Python language. Therefore, names like class or def canot be used as variable names in Python. In this case you can append a single underscore to break the naming conflict"
   ]
  },
  {
   "cell_type": "code",
   "execution_count": 4,
   "metadata": {},
   "outputs": [
    {
     "output_type": "error",
     "ename": "SyntaxError",
     "evalue": "invalid syntax (<ipython-input-4-464c0adaf441>, line 1)",
     "traceback": [
      "\u001b[0;36m  File \u001b[0;32m\"<ipython-input-4-464c0adaf441>\"\u001b[0;36m, line \u001b[0;32m1\u001b[0m\n\u001b[0;31m    def make_object(name, class):\u001b[0m\n\u001b[0m                              ^\u001b[0m\n\u001b[0;31mSyntaxError\u001b[0m\u001b[0;31m:\u001b[0m invalid syntax\n"
     ]
    }
   ],
   "source": [
    "def make_object(name, class):\n",
    "    return class\n",
    "\n",
    "make_object('name', 'class')"
   ]
  },
  {
   "cell_type": "code",
   "execution_count": 5,
   "metadata": {},
   "outputs": [
    {
     "output_type": "execute_result",
     "data": {
      "text/plain": "'class'"
     },
     "metadata": {},
     "execution_count": 5
    }
   ],
   "source": [
    "def make_object(name, class_):\n",
    "    return class_\n",
    "\n",
    "make_object('name', 'class')"
   ]
  },
  {
   "cell_type": "markdown",
   "metadata": {},
   "source": [
    "### Double leading underscore: \\_\\_var\n",
    "\n",
    "A double underscore prefix causes the Python interpreter to rewrite the attribute name in order to avoid naming conflicts in subclasses. This is also called name mangling the interpreter changes the name of the variable in a way that makes it harder to create collisions when the class is extended later.\n"
   ]
  },
  {
   "cell_type": "code",
   "execution_count": 6,
   "metadata": {},
   "outputs": [
    {
     "output_type": "execute_result",
     "data": {
      "text/plain": "['_Test__baz',\n '__class__',\n '__delattr__',\n '__dict__',\n '__dir__',\n '__doc__',\n '__eq__',\n '__format__',\n '__ge__',\n '__getattribute__',\n '__gt__',\n '__hash__',\n '__init__',\n '__init_subclass__',\n '__le__',\n '__lt__',\n '__module__',\n '__ne__',\n '__new__',\n '__reduce__',\n '__reduce_ex__',\n '__repr__',\n '__setattr__',\n '__sizeof__',\n '__str__',\n '__subclasshook__',\n '__weakref__',\n '_bar',\n 'foo']"
     },
     "metadata": {},
     "execution_count": 6
    }
   ],
   "source": [
    "class Test:\n",
    "    def __init__(self):\n",
    "        self.foo = 11\n",
    "        self._bar = 23\n",
    "        self.__baz = 42\n",
    "\n",
    "t = Test()\n",
    "dir(t)"
   ]
  },
  {
   "cell_type": "markdown",
   "metadata": {},
   "source": [
    "If you look closely, you'll see there's an attribute called _Test__baz on this object. This is the name mangling that the Python interpreter applies. It does this to protect the variable from getting overriden in subclasses. We are going to create another class that extends the Test class and attempts to override its existing attributes added in the constructor."
   ]
  },
  {
   "cell_type": "code",
   "execution_count": 7,
   "metadata": {},
   "outputs": [
    {
     "output_type": "stream",
     "name": "stdout",
     "text": "overridden\n42\n"
    },
    {
     "output_type": "execute_result",
     "data": {
      "text/plain": "['_ExtendedTest__baz',\n '_Test__baz',\n '__class__',\n '__delattr__',\n '__dict__',\n '__dir__',\n '__doc__',\n '__eq__',\n '__format__',\n '__ge__',\n '__getattribute__',\n '__gt__',\n '__hash__',\n '__init__',\n '__init_subclass__',\n '__le__',\n '__lt__',\n '__module__',\n '__ne__',\n '__new__',\n '__reduce__',\n '__reduce_ex__',\n '__repr__',\n '__setattr__',\n '__sizeof__',\n '__str__',\n '__subclasshook__',\n '__weakref__',\n '_bar',\n 'foo']"
     },
     "metadata": {},
     "execution_count": 7
    }
   ],
   "source": [
    "class ExtendedTest(Test):\n",
    "    def __init__(self):\n",
    "        super().__init__()\n",
    "        self.foo = 'overridden'\n",
    "        self._bar = 'overridden'\n",
    "        self.__baz = 'overridden'\n",
    "\n",
    "t2 = ExtendedTest()\n",
    "print(t2._ExtendedTest__baz)\n",
    "print(t2._Test__baz)\n",
    "dir(t2)"
   ]
  },
  {
   "cell_type": "markdown",
   "metadata": {},
   "source": [
    "As you can see, \\_\\_baz got turned into \\_ExtendedTest\\_\\_baz to prevent accidental modification. But the original \\_Test\\_\\_baz is also still around.\n",
    "\n",
    "Double underscore name mangling is fully transparent to the programmer. Take a took ar the following example that will confirm this. Name mangling affects all names that start with two underscore characters ('dunders') in class context"
   ]
  },
  {
   "cell_type": "code",
   "execution_count": 8,
   "metadata": {},
   "outputs": [
    {
     "output_type": "stream",
     "name": "stdout",
     "text": "Hello\n"
    },
    {
     "output_type": "error",
     "ename": "AttributeError",
     "evalue": "'ManglingTest' object has no attribute '__mangled'",
     "traceback": [
      "\u001b[0;31m---------------------------------------------------------------------------\u001b[0m",
      "\u001b[0;31mAttributeError\u001b[0m                            Traceback (most recent call last)",
      "\u001b[0;32m<ipython-input-8-48e271417b5c>\u001b[0m in \u001b[0;36m<module>\u001b[0;34m\u001b[0m\n\u001b[1;32m     12\u001b[0m \u001b[0mprint\u001b[0m\u001b[0;34m(\u001b[0m\u001b[0mmangling\u001b[0m\u001b[0;34m.\u001b[0m\u001b[0mget_mangled\u001b[0m\u001b[0;34m(\u001b[0m\u001b[0;34m)\u001b[0m\u001b[0;34m)\u001b[0m\u001b[0;34m\u001b[0m\u001b[0;34m\u001b[0m\u001b[0m\n\u001b[1;32m     13\u001b[0m \u001b[0;34m\u001b[0m\u001b[0m\n\u001b[0;32m---> 14\u001b[0;31m \u001b[0mprint\u001b[0m\u001b[0;34m(\u001b[0m\u001b[0mmangling\u001b[0m\u001b[0;34m.\u001b[0m\u001b[0m__mangled\u001b[0m\u001b[0;34m)\u001b[0m\u001b[0;34m\u001b[0m\u001b[0;34m\u001b[0m\u001b[0m\n\u001b[0m",
      "\u001b[0;31mAttributeError\u001b[0m: 'ManglingTest' object has no attribute '__mangled'"
     ]
    }
   ],
   "source": [
    "class ManglingTest:\n",
    "    def __init__(self):\n",
    "        self.__mangled = 'Hello'\n",
    "    \n",
    "    def get_mangled(self):\n",
    "        return self.__mangled\n",
    "    \n",
    "    def __method(self):\n",
    "        return 42\n",
    "    \n",
    "mangling = ManglingTest()\n",
    "print(mangling.get_mangled())\n",
    "\n",
    "print(mangling.__mangled)"
   ]
  },
  {
   "cell_type": "code",
   "execution_count": 9,
   "metadata": {},
   "outputs": [
    {
     "output_type": "error",
     "ename": "AttributeError",
     "evalue": "'ManglingTest' object has no attribute '__method'",
     "traceback": [
      "\u001b[0;31m---------------------------------------------------------------------------\u001b[0m",
      "\u001b[0;31mAttributeError\u001b[0m                            Traceback (most recent call last)",
      "\u001b[0;32m<ipython-input-9-106e297a645d>\u001b[0m in \u001b[0;36m<module>\u001b[0;34m\u001b[0m\n\u001b[0;32m----> 1\u001b[0;31m \u001b[0mmangling\u001b[0m\u001b[0;34m.\u001b[0m\u001b[0m__method\u001b[0m\u001b[0;34m(\u001b[0m\u001b[0;34m)\u001b[0m\u001b[0;34m\u001b[0m\u001b[0;34m\u001b[0m\u001b[0m\n\u001b[0m",
      "\u001b[0;31mAttributeError\u001b[0m: 'ManglingTest' object has no attribute '__method'"
     ]
    }
   ],
   "source": [
    "mangling.__method()"
   ]
  },
  {
   "cell_type": "markdown",
   "metadata": {},
   "source": [
    "Here's another, perhaps surprising, example of name mangling in action:"
   ]
  },
  {
   "cell_type": "code",
   "execution_count": 10,
   "metadata": {},
   "outputs": [
    {
     "output_type": "stream",
     "name": "stdout",
     "text": "23\n"
    }
   ],
   "source": [
    "_ManagledGlobal__mangled = 23\n",
    "\n",
    "class ManagledGlobal:\n",
    "    def test(self):\n",
    "        return __mangled\n",
    "\n",
    "print(ManagledGlobal().test())"
   ]
  },
  {
   "cell_type": "markdown",
   "metadata": {},
   "source": [
    "The Python interpreter automatically expanded the name __mangled to _ManagledGlobal__managled because it begins with two underscore characters. This demonstrates that name mangling isn't tied to class attributes specifically. It applies to any name starting with two underscore characters that is used in a class context.\n",
    "\n",
    "Double underscores are often referred to as 'dunders' in the Python community. The reason  is that double underscores appear quite often in Python code, and to avoid fatiguing their jaw muscles, Pythonistas ofthe shorten 'double underscore' to 'dunder'.\n",
    "\n",
    "But that's just yet another quirk in the naming convention. It's like a secret handshake for Python developers.\n",
    "\n",
    "### Double leading and trailing underscore: \\_\\_var\\_\\_\n",
    "\n",
    "Perhaps surprisingly, name mangling is not applied if a name starts and ends with double underscores. Variables surrounded by a double underscore prefix and postfix are left unscathed by the Python interpreter.\n",
    "\n",
    "Hovewer, names that have both leading and trailing double underscores are reserved for special use in the language. This rule covers things like \\_\\_init\\_\\_ for object constructors or \\_\\_call\\_\\_ to make objects callable.\n",
    "\n",
    "These dunder methods are often referred to as *magic methods*. They're a core feature in Python and should be used as needed.\n",
    "\n",
    "Hovewer, as far as naming conventions go, it's best to stay away from using names that start and end with dunders in your own programs to avoid collisions with future changes to the Python language\n",
    "\n",
    "### Single underscore: '\\_'\n",
    "\n",
    "Per convention, a single stand-alone underscore is sometimes used as a name to indicate that a variable is temporary or insignificant."
   ]
  },
  {
   "cell_type": "code",
   "execution_count": 11,
   "metadata": {},
   "outputs": [
    {
     "output_type": "stream",
     "name": "stdout",
     "text": "Hello, world.\nHello, world.\nHello, world.\nHello, world.\nHello, world.\n"
    }
   ],
   "source": [
    "for _ in range(5):\n",
    "    print('Hello, world.')"
   ]
  },
  {
   "cell_type": "markdown",
   "metadata": {},
   "source": [
    "Besides its use as a temporary variable, *\\_* is a special variable in most Python REPLs that represents the results of the last expression evaluated by the interpreter.\n",
    "\n",
    "```\n",
    ">>> list()\n",
    "[]\n",
    ">>> _.append(1)\n",
    ">>> _.append(2)\n",
    ">>> _.append(3)\n",
    ">>> _\n",
    "[1, 2, 3]\n",
    "```"
   ]
  }
 ],
 "metadata": {
  "kernelspec": {
   "display_name": "Python 3.7.7 64-bit ('venv': venv)",
   "language": "python",
   "name": "python37764bitvenvvenvd33f9026929c40169e2f7d2ac2b15d20"
  },
  "language_info": {
   "codemirror_mode": {
    "name": "ipython",
    "version": 3
   },
   "file_extension": ".py",
   "mimetype": "text/x-python",
   "name": "python",
   "nbconvert_exporter": "python",
   "pygments_lexer": "ipython3",
   "version": "3.7.7-final"
  }
 },
 "nbformat": 4,
 "nbformat_minor": 2
}