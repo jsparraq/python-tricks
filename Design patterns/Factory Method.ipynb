{
 "cells": [
  {
   "cell_type": "markdown",
   "id": "e8a6166d",
   "metadata": {},
   "source": [
    "## Factory Method\n",
    "\n",
    "Is a creational design pattern that provides an interface for creating objects in a superclass, but allows subclasses to alter the type of objects that will be created\n",
    "\n",
    "### Problem\n",
    "\n",
    "Imagine that you're creating a logistics management application. The first version of your app can only handle transportation by trucks, so the bulk of your code lives inside the *Truck* class\n",
    "\n",
    "After a while, your app becomes pretty popular. Each day you receive dozens of requests from sea transportation companies to incorporate sea logistics in the app.\n",
    "\n",
    "At present, most of your code is coupled to the *Truck* class. Adding *Ships* into the app would require making changes to the entire codebase. Moreover, if later you decide to add another type of transportation to the app, you will probably need to make all of these changes again.\n",
    "\n",
    "### Solution\n",
    "\n",
    "The **Factory Method** patterns suggests that you replace direct object construction calls (using the *new* operator) with calls to a special *factory* method. Don't worry: the objects are still created via the *new* operator, but it's being called from within the factory method. Objects returned by a factory method are often referred to as products.\n",
    "\n",
    "![Class diagram](./images/factory-method.png)\n",
    "\n",
    "The code that uses the factory method (ofthe called the client code) doesn't see a difference between the actual products returned by various subclasses. The client treats all the products as abstract *Transport*. The client knows that all transport objects are supposed to have the *deliver* method, but exactly how it works isn't importante to the client\n",
    "\n",
    "### Structure\n",
    "\n",
    "![Class diagram](./images/factory-method-1.png)\n",
    "\n",
    "### Applicability\n",
    "\n",
    "Use the Factory Method when\n",
    "\n",
    "    * When you don't know beforehand the exact types and dependencies of the objects your code should work with\n",
    "    * When you want to provide users of your library or framework with a way to extend its internal components\n",
    "    * When you want to save system resources by reusing existing objects instead of rebuilding the each time\n",
    "    \n",
    "### Pros\n",
    "    - You avoid tight coupling between the creator and the concrete products\n",
    "    - Single responsibility principle. You can move the product creation code into one place in the program making the code easier to support.\n",
    "    - Open/Closed Principle. You can introduce new types of products into the program without breaking existing clien code.\n",
    "    \n",
    "### Cons\n",
    "    - The code may become more complicated since you need to introduce a lot of new subclasses to implement the pattern. The best case scenario is when you're introducing the pattern into an existing hierarchy of creator classes\n",
    "    \n",
    "### Implementation"
   ]
  },
  {
   "cell_type": "code",
   "execution_count": 3,
   "id": "c6c71d62",
   "metadata": {},
   "outputs": [],
   "source": [
    "from __future__ import annotations\n",
    "from abc import ABC, abstractmethod"
   ]
  },
  {
   "cell_type": "code",
   "execution_count": 4,
   "id": "3c741150",
   "metadata": {},
   "outputs": [],
   "source": [
    "class Creator(ABC):\n",
    "    \"\"\"\n",
    "    The Creator class declares the factory method that is supposed to return an\n",
    "    object of a Product class. The Creator's subclasses usually provide the\n",
    "    implementation of this method.\n",
    "    \"\"\"\n",
    "\n",
    "    @abstractmethod\n",
    "    def factory_method(self):\n",
    "        \"\"\"\n",
    "        Note that the Creator may also provide some default implementation of\n",
    "        the factory method.\n",
    "        \"\"\"\n",
    "        pass\n",
    "\n",
    "    def some_operation(self) -> str:\n",
    "        \"\"\"\n",
    "        Also note that, despite its name, the Creator's primary responsibility\n",
    "        is not creating products. Usually, it contains some core business logic\n",
    "        that relies on Product objects, returned by the factory method.\n",
    "        Subclasses can indirectly change that business logic by overriding the\n",
    "        factory method and returning a different type of product from it.\n",
    "        \"\"\"\n",
    "\n",
    "        # Call the factory method to create a Product object.\n",
    "        product = self.factory_method()\n",
    "\n",
    "        # Now, use the product.\n",
    "        result = f\"Creator: The same creator's code has just worked with {product.operation()}\"\n",
    "\n",
    "        return result"
   ]
  },
  {
   "cell_type": "code",
   "execution_count": 5,
   "id": "d959e130",
   "metadata": {},
   "outputs": [],
   "source": [
    "\"\"\"\n",
    "Concrete Creators override the factory method in order to change the resulting\n",
    "product's type.\n",
    "\"\"\"\n",
    "\n",
    "class ConcreteCreator1(Creator):\n",
    "    \"\"\"\n",
    "    Note that the signature of the method still uses the abstract product type,\n",
    "    even though the concrete product is actually returned from the method. This\n",
    "    way the Creator can stay independent of concrete product classes.\n",
    "    \"\"\"\n",
    "\n",
    "    def factory_method(self) -> Product:\n",
    "        return ConcreteProduct1()\n",
    "\n",
    "\n",
    "class ConcreteCreator2(Creator):\n",
    "    def factory_method(self) -> Product:\n",
    "        return ConcreteProduct2()"
   ]
  },
  {
   "cell_type": "code",
   "execution_count": 6,
   "id": "3ae15f4a",
   "metadata": {},
   "outputs": [],
   "source": [
    "class Product(ABC):\n",
    "    \"\"\"\n",
    "    The Product interface declares the operations that all concrete products\n",
    "    must implement.\n",
    "    \"\"\"\n",
    "\n",
    "    @abstractmethod\n",
    "    def operation(self) -> str:\n",
    "        pass"
   ]
  },
  {
   "cell_type": "code",
   "execution_count": 7,
   "id": "eaa8aafb",
   "metadata": {},
   "outputs": [],
   "source": [
    "\"\"\"\n",
    "Concrete Products provide various implementations of the Product interface.\n",
    "\"\"\"\n",
    "\n",
    "class ConcreteProduct1(Product):\n",
    "    def operation(self) -> str:\n",
    "        return \"{Result of the ConcreteProduct1}\"\n",
    "\n",
    "\n",
    "class ConcreteProduct2(Product):\n",
    "    def operation(self) -> str:\n",
    "        return \"{Result of the ConcreteProduct2}\""
   ]
  },
  {
   "cell_type": "code",
   "execution_count": 10,
   "id": "2baa728c",
   "metadata": {},
   "outputs": [],
   "source": [
    "def client_code(creator: Creator) -> None:\n",
    "    \"\"\"\n",
    "    The client code works with an instance of a concrete creator, albeit through\n",
    "    its base interface. As long as the client keeps working with the creator via\n",
    "    the base interface, you can pass it any creator's subclass.\n",
    "    \"\"\"\n",
    "\n",
    "    print(\"Client: I'm not aware of the creator's class, but it still works.\\n\"\n",
    "          f\"{creator.some_operation()}\", end=\"\")"
   ]
  },
  {
   "cell_type": "code",
   "execution_count": 11,
   "id": "ae67b32f",
   "metadata": {},
   "outputs": [
    {
     "name": "stdout",
     "output_type": "stream",
     "text": [
      "App: Launched with the ConcreteCreator1.\n",
      "Client: I'm not aware of the creator's class, but it still works.\n",
      "Creator: The same creator's code has just worked with {Result of the ConcreteProduct1}\n",
      "\n",
      "App: Launched with the ConcreteCreator2.\n",
      "Client: I'm not aware of the creator's class, but it still works.\n",
      "Creator: The same creator's code has just worked with {Result of the ConcreteProduct2}"
     ]
    }
   ],
   "source": [
    "print(\"App: Launched with the ConcreteCreator1.\")\n",
    "client_code(ConcreteCreator1())\n",
    "print(\"\\n\")\n",
    "\n",
    "print(\"App: Launched with the ConcreteCreator2.\")\n",
    "client_code(ConcreteCreator2())"
   ]
  },
  {
   "cell_type": "code",
   "execution_count": null,
   "id": "f7dfa57b",
   "metadata": {},
   "outputs": [],
   "source": []
  }
 ],
 "metadata": {
  "kernelspec": {
   "display_name": "Python 3 (ipykernel)",
   "language": "python",
   "name": "python3"
  },
  "language_info": {
   "codemirror_mode": {
    "name": "ipython",
    "version": 3
   },
   "file_extension": ".py",
   "mimetype": "text/x-python",
   "name": "python",
   "nbconvert_exporter": "python",
   "pygments_lexer": "ipython3",
   "version": "3.8.5"
  }
 },
 "nbformat": 4,
 "nbformat_minor": 5
}
