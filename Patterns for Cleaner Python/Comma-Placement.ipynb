{
 "cells": [
  {
   "cell_type": "markdown",
   "metadata": {},
   "source": [
    "# Complacement Comma Placement\n",
    "\n",
    "Here's handy top for when you're adding and removing items from a list, dict, or set constant in Python: Just end all of your lines with a comma.\n",
    "Whenever you make a change to this list of names, it'll be hard to tell what was modified by looking at a Git diff.\n",
    "\n",
    "A quick fix for that is to adopt a code style where your spread out list, dict, or set constants across multiples lines"
   ]
  },
  {
   "cell_type": "code",
   "execution_count": 1,
   "metadata": {},
   "outputs": [],
   "source": [
    "# Wrong\n",
    "names = ['Alice', 'Bob', 'Dilbert']\n",
    "\n",
    "# Correct\n",
    "names = [\n",
    "    'Alice',\n",
    "    'Bob',\n",
    "    'Dilbert'\n",
    "]"
   ]
  },
  {
   "cell_type": "markdown",
   "metadata": {},
   "source": [
    "That way there's one item per line, making it perfectly clear which one was added, removed, or modified when you view a diff in your source control system. It's a small change but I found it helped me avoid silly mistakes. It also made is easier for my teammates to review my code changes.\n",
    "\n",
    "Now, There are two editing cases that can still cause some confusion. Whenever you add a new item at the end of a list, or you remove the last item, you'll have to update the comma placement manually to get consistent formatting (if you forgot to add comma, Python merged the strings)"
   ]
  },
  {
   "cell_type": "code",
   "execution_count": 2,
   "metadata": {},
   "outputs": [
    {
     "output_type": "stream",
     "name": "stdout",
     "text": "['Alice', 'Bob', 'DilbertJane']\n['Alice', 'Bob', 'Dilbert', 'Jane']\n"
    }
   ],
   "source": [
    "names = [\n",
    "    'Alice',\n",
    "    'Bob',\n",
    "    'Dilbert' # <- Missing comma\n",
    "    'Jane'\n",
    "]\n",
    "print(names)\n",
    "\n",
    "names = [\n",
    "    'Alice',\n",
    "    'Bob',\n",
    "    'Dilbert',\n",
    "    'Jane'\n",
    "]\n",
    "print(names)"
   ]
  },
  {
   "cell_type": "markdown",
   "metadata": {},
   "source": [
    "In Python, you can place a comma after every item in a list, dict, or set constant, including the last item.\n",
    "That'll make it easy it easy to add or remove new items without having to update the comma placement. It keeps you lines consistent, your source control diffs clean, and your code reviewers happy"
   ]
  }
 ],
 "metadata": {
  "language_info": {
   "codemirror_mode": {
    "name": "ipython",
    "version": 3
   },
   "file_extension": ".py",
   "mimetype": "text/x-python",
   "name": "python",
   "nbconvert_exporter": "python",
   "pygments_lexer": "ipython3",
   "version": "3.7.7-final"
  },
  "orig_nbformat": 2,
  "kernelspec": {
   "name": "python37764bitvenvvenvd33f9026929c40169e2f7d2ac2b15d20",
   "display_name": "Python 3.7.7 64-bit ('venv': venv)"
  }
 },
 "nbformat": 4,
 "nbformat_minor": 2
}